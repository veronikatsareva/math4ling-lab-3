{
 "cells": [
  {
   "cell_type": "markdown",
   "metadata": {},
   "source": [
    "# Лабораторная работа №3\n",
    "\n",
    "Выполнила Вероника Царева, группа БКЛ223.\n",
    "\n",
    "При работе использовался python версии 3.8.4"
   ]
  },
  {
   "cell_type": "markdown",
   "metadata": {},
   "source": [
    "### Задание\n",
    "\n",
    "Разработка системы транслитерации для корейского языка.\n",
    "\n",
    "**Система транслитерации**\n",
    "\n",
    "В данной лабораторной работе я использовала [Йельскую романизацию корейского языка](https://en.wikipedia.org/wiki/Yale_romanization_of_Korean#cite_note-FOOTNOTELeeRamsey2000xii-1), так как согласно [Lee, Ramsey 2000]:\n",
    "\n",
    "> «Yale Romanization, on the other hand, is the romanization of choice for linguists, because it is constructed to reflect linguistic structure.»\n",
    "\n",
    "Подробная таблица соответствий и комментариев приведена ниже на основе [Sohn 2001: 2-4]."
   ]
  },
  {
   "cell_type": "markdown",
   "metadata": {},
   "source": [
    "**Комментарии к реализации**\n",
    "\n",
    "В корейском языке даже для транслитерации важно, с чего начинается слог. Так, он не может начинаться с гласного звука –– перед ним должен предшествовать `ㅇ`, который в начале слога никак не транслитерируется. В других же позициях `ㅇ` транслитерируется как `ng`. \n",
    "\n",
    "Для остальных букв есть однозначное соответствие (см. [Sohn 2001: 2-4]).\n",
    "\n",
    "По этой причине я решила сделать трансдьюсер, который будет транслитерировать один слог. Таким образом, для того чтобы обработать слово целиком, мне необходимо разбить его на слоги и по очереди провести их транслитерацию.\n",
    "\n",
    "При обработке слов, записанных на хангыле, я заметила, что слог закодирован неделимым символом, поэтому мне не понадобилось руками разбивать каждое слово на слоги при вводе.\n",
    "\n",
    "Однако это вскрыло другую проблему –– без декомпозиции слога на отдельные буквы я не смогу провести транслитерацию. Для этого был использован модуль [Python-Jamo](https://python-jamo.readthedocs.io/en/latest/#)."
   ]
  },
  {
   "cell_type": "markdown",
   "metadata": {},
   "source": [
    "**Описание трансдьюсера**\n",
    "\n",
    "Начальное состояние `q0` –– это первая буква слога. В этом слоте могут быть только согласные. При этом `ㅇ` транслитерируется пустой строкой.\n",
    "\n",
    "Состояние `q1` –– это любая НЕ первая буква слога. В этом слоте могут быть любые согласные и гласные. При этом `ㅇ` транслитерируется как `ng`. Дополнительно могут встречаться так называемые double bachim –– это сочетание двух букв на конце слога не парсится на части, поэтому транслитерация для них прописана в словаре отдельно.\n",
    "\n",
    "В конце каждого слога я добавляю символ `§` в качестве флага, что слог закончен. После этого необходимо вернуться в начальное состояние `q0` для обработки следующих слогов. "
   ]
  },
  {
   "cell_type": "markdown",
   "metadata": {},
   "source": [
    "**Иллюстрация трансдьюсера**\n",
    "\n",
    "<img src=\"https://raw.githubusercontent.com/veronikatsareva/images/main/transducer_illustration.png\" alt='transducer for Korean' width='700'/>\n"
   ]
  },
  {
   "cell_type": "markdown",
   "metadata": {},
   "source": [
    "**Словарь соответствий**\n",
    "\n",
    "Ниже приведены словари соответствий, которые используются при переходе из одного состояния в другое (за исключением случая с `ㅇ`, который прописан отдельно на иллюстрации).\n",
    "\n",
    "```\n",
    "consonants = {\n",
    "    \"ㅂ\": \"p\",\n",
    "    \"ㅍ\": \"ph\",\n",
    "    \"ㅃ\": \"pp\",\n",
    "    \"ㄷ\": \"t\",\n",
    "    \"ㅌ\": \"th\",\n",
    "    \"ㄸ\": \"tt\",\n",
    "    \"ㅅ\": \"s\",\n",
    "    \"ㅆ\": \"ss\",\n",
    "    \"ㅈ\": \"c\",\n",
    "    \"ㅊ\": \"ch\",\n",
    "    \"ㅉ\": \"cc\",\n",
    "    \"ㄱ\": \"k\",\n",
    "    \"ㅋ\": \"kh\",\n",
    "    \"ㄲ\": \"kk\",\n",
    "    \"ㅁ\": \"m\",\n",
    "    \"ㄴ\": \"n\",\n",
    "    \"ㄹ\": \"l\",\n",
    "    \"ㅎ\": \"h\",\n",
    "}\n",
    "\n",
    "vowels = {\n",
    "    \"ㅣ\": \"i\",\n",
    "    \"ㅟ\": \"wi\",\n",
    "    \"ㅔ\": \"ey\",\n",
    "    \"ㅖ\": \"yey\",\n",
    "    \"ㅞ\": \"wey\",\n",
    "    \"ㅚ\": \"oy\",\n",
    "    \"ㅐ\": \"ay\",\n",
    "    \"ㅒ\": \"yay\",\n",
    "    \"ㅙ\": \"way\",\n",
    "    \"ㅡ\": \"u\",\n",
    "    \"ㅓ\": \"e\",\n",
    "    \"ㅕ\": \"ye\",\n",
    "    \"ㅝ\": \"we\",\n",
    "    \"ㅏ\": \"a\",\n",
    "    \"ㅑ\": \"ya\",\n",
    "    \"ㅘ\": \"wa\",\n",
    "    \"ㅜ\": \"wu\",\n",
    "    \"ㅠ\": \"ywu\",\n",
    "    \"ㅗ\": \"o\",\n",
    "    \"ㅛ\": \"yo\",\n",
    "    \"ㅢ\": \"uy\",\n",
    "}\n",
    "\n",
    "double_batchim = {\n",
    "    \"ㄳ\": \"ks\",\n",
    "    \"ㄺ\": \"lk\",\n",
    "    \"ㄵ\": \"nc\",\n",
    "    \"ㄶ\": \"nh\",\n",
    "    \"ㄼ\": \"lp\",\n",
    "    \"ㄽ\": \"ls\",\n",
    "    \"ㄾ\": \"lth\",\n",
    "    \"ㅀ\": \"lh\",\n",
    "    \"ㄻ\": \"lm\",\n",
    "    \"ㅄ\": \"ps\",\n",
    "    \"ㄿ\": \"lph\",\n",
    "}\n",
    "\n",
    "```"
   ]
  },
  {
   "cell_type": "markdown",
   "metadata": {},
   "source": [
    "**Источники**\n",
    "\n",
    "1. Sohn, Ho-Min (2001). The Korean Language. Cambridge University Press.\n",
    "2. Lee, Iksop; Ramsey, S. Robert (2000). The Korean Language. SUNY Press."
   ]
  },
  {
   "cell_type": "markdown",
   "metadata": {},
   "source": [
    "### Реализация"
   ]
  },
  {
   "cell_type": "markdown",
   "metadata": {},
   "source": [
    "Установка и импорт необходимых модулей."
   ]
  },
  {
   "cell_type": "code",
   "execution_count": 1,
   "metadata": {},
   "outputs": [
    {
     "name": "stdout",
     "output_type": "stream",
     "text": [
      "Defaulting to user installation because normal site-packages is not writeable\n",
      "Requirement already satisfied: jamo in /Users/veronikatsareva/Library/Python/3.8/lib/python/site-packages (0.4.1)\n",
      "Note: you may need to restart the kernel to use updated packages.\n"
     ]
    }
   ],
   "source": [
    "%pip install jamo"
   ]
  },
  {
   "cell_type": "code",
   "execution_count": 2,
   "metadata": {},
   "outputs": [],
   "source": [
    "import string\n",
    "import typing\n",
    "from jamo import h2j, j2hcj\n"
   ]
  },
  {
   "cell_type": "markdown",
   "metadata": {},
   "source": [
    "Создание названий для использующихся типов в функциях."
   ]
  },
  {
   "cell_type": "code",
   "execution_count": 3,
   "metadata": {},
   "outputs": [],
   "source": [
    "Transitions = typing.Dict[typing.Tuple[str, str], str]\n"
   ]
  },
  {
   "cell_type": "markdown",
   "metadata": {},
   "source": [
    "Словарь переходов."
   ]
  },
  {
   "cell_type": "code",
   "execution_count": 4,
   "metadata": {},
   "outputs": [],
   "source": [
    "transitions = {\n",
    "    # initial\n",
    "    (\"q0\", \"ㅂ:p\"): \"q1\",\n",
    "    (\"q0\", \"ㅍ:ph\"): \"q1\",\n",
    "    (\"q0\", \"ㅃ:pp\"): \"q1\",\n",
    "    (\"q0\", \"ㄷ:t\"): \"q1\",\n",
    "    (\"q0\", \"ㅌ:th\"): \"q1\",\n",
    "    (\"q0\", \"ㄸ:tt\"): \"q1\",\n",
    "    (\"q0\", \"ㅅ:s\"): \"q1\",\n",
    "    (\"q0\", \"ㅆ:ss\"): \"q1\",\n",
    "    (\"q0\", \"ㅈ:c\"): \"q1\",\n",
    "    (\"q0\", \"ㅊ:ch\"): \"q1\",\n",
    "    (\"q0\", \"ㅉ:cc\"): \"q1\",\n",
    "    (\"q0\", \"ㄱ:k\"): \"q1\",\n",
    "    (\"q0\", \"ㅋ:kh\"): \"q1\",\n",
    "    (\"q0\", \"ㄲ:kk\"): \"q1\",\n",
    "    (\"q0\", \"ㅁ:m\"): \"q1\",\n",
    "    (\"q0\", \"ㄴ:n\"): \"q1\",\n",
    "    (\"q0\", \"ㅇ:\"): \"q1\",  # ㅇ is not romanized (as syllabic initial)\n",
    "    (\"q0\", \"ㄹ:l\"): \"q1\",\n",
    "    (\"q0\", \"ㅎ:h\"): \"q1\",\n",
    "    # NOT initial\n",
    "    (\"q1\", \"ㅣ:i\"): \"q1\",\n",
    "    (\"q1\", \"ㅟ:wi\"): \"q1\",\n",
    "    (\"q1\", \"ㅔ:ey\"): \"q1\",\n",
    "    (\"q1\", \"ㅖ:yey\"): \"q1\",\n",
    "    (\"q1\", \"ㅞ:wey\"): \"q1\",\n",
    "    (\"q1\", \"ㅚ:oy\"): \"q1\",\n",
    "    (\"q1\", \"ㅐ:ay\"): \"q1\",\n",
    "    (\"q1\", \"ㅒ:yay\"): \"q1\",\n",
    "    (\"q1\", \"ㅙ:way\"): \"q1\",\n",
    "    (\"q1\", \"ㅡ:u\"): \"q1\",\n",
    "    (\"q1\", \"ㅓ:e\"): \"q1\",\n",
    "    (\"q1\", \"ㅕ:ye\"): \"q1\",\n",
    "    (\"q1\", \"ㅝ:we\"): \"q1\",\n",
    "    (\"q1\", \"ㅏ:a\"): \"q1\",\n",
    "    (\"q1\", \"ㅑ:ya\"): \"q1\",\n",
    "    (\"q1\", \"ㅘ:wa\"): \"q1\",\n",
    "    (\"q1\", \"ㅜ:wu\"): \"q1\",\n",
    "    (\"q1\", \"ㅠ:ywu\"): \"q\",\n",
    "    (\"q1\", \"ㅗ:o\"): \"q1\",\n",
    "    (\"q1\", \"ㅛ:yo\"): \"q1\",\n",
    "    (\"q1\", \"ㅢ:uy\"): \"q1\",\n",
    "    (\"q1\", \"ㅇ:ng\"): \"q1\",  # ㅇ is romanized as ng (as syllabic final)\n",
    "    (\"q1\", \"ㅂ:p\"): \"q1\",\n",
    "    (\"q1\", \"ㅍ:ph\"): \"q1\",\n",
    "    (\"q1\", \"ㅃ:pp\"): \"q1\",\n",
    "    (\"q1\", \"ㄷ:t\"): \"q1\",\n",
    "    (\"q1\", \"ㅌ:th\"): \"q1\",\n",
    "    (\"q1\", \"ㄸ:tt\"): \"q1\",\n",
    "    (\"q1\", \"ㅅ:s\"): \"q1\",\n",
    "    (\"q1\", \"ㅆ:ss\"): \"q1\",\n",
    "    (\"q1\", \"ㅈ:c\"): \"q1\",\n",
    "    (\"q1\", \"ㅊ:ch\"): \"q1\",\n",
    "    (\"q1\", \"ㅉ:cc\"): \"q1\",\n",
    "    (\"q1\", \"ㄱ:k\"): \"q1\",\n",
    "    (\"q1\", \"ㅋ:kh\"): \"q1\",\n",
    "    (\"q1\", \"ㄲ:kk\"): \"q1\",\n",
    "    (\"q1\", \"ㅁ:m\"): \"q1\",\n",
    "    (\"q1\", \"ㄴ:n\"): \"q1\",\n",
    "    (\"q1\", \"ㄹ:l\"): \"q1\",\n",
    "    (\"q1\", \"ㅎ:h\"): \"q1\",\n",
    "    # double batchim\n",
    "    (\"q1\", \"ㄳ:ks\"): \"q1\",\n",
    "    (\"q1\", \"ㄺ:lk\"): \"q1\",\n",
    "    (\"q1\", \"ㄵ:nc\"): \"q1\",\n",
    "    (\"q1\", \"ㄶ:nh\"): \"q1\",\n",
    "    (\"q1\", \"ㄼ:lp\"): \"q1\",\n",
    "    (\"q1\", \"ㄽ:ls\"): \"q1\",\n",
    "    (\"q1\", \"ㄾ:lth\"): \"q1\",\n",
    "    (\"q1\", \"ㅀ:lh\"): \"q1\",\n",
    "    (\"q1\", \"ㄻ:lm\"): \"q1\",\n",
    "    (\"q1\", \"ㅄ:ps\"): \"q1\",\n",
    "    (\"q1\", \"ㄿ:lph\"): \"q1\",\n",
    "    # end of the syllable\n",
    "    (\"q1\", \"§:\"): \"q0\",\n",
    "}\n"
   ]
  },
  {
   "cell_type": "markdown",
   "metadata": {},
   "source": [
    "Функция для перехода в новое состояние."
   ]
  },
  {
   "cell_type": "code",
   "execution_count": 5,
   "metadata": {},
   "outputs": [],
   "source": [
    "def change_state(\n",
    "    transitions: Transitions, current_state: str, current_char: str\n",
    ") -> typing.Tuple[str, str]:\n",
    "    # перебираем все состояния в словаре переходов\n",
    "    for (state, encoding), transition in transitions.items():\n",
    "        # если текущее состояние и текущий символ есть в словаре\n",
    "        if state == current_state and encoding[0] == current_char:\n",
    "            # то возращаем транслитерацию текущего символа и переходим\n",
    "            # в новое состояние\n",
    "            return transition, encoding[2:]\n",
    "    # иначе –– ничего\n",
    "    return None, \"\"\n"
   ]
  },
  {
   "cell_type": "markdown",
   "metadata": {},
   "source": [
    "Функция для обработки предложения на корейском языке."
   ]
  },
  {
   "cell_type": "code",
   "execution_count": 6,
   "metadata": {},
   "outputs": [],
   "source": [
    "def transliteration(\n",
    "    transitions: Transitions,\n",
    "    current_state: str,\n",
    "    sentence: str,\n",
    "    punctuation: typing.List[str],\n",
    ") -> str:\n",
    "    # список для хранения транслитерированного предложения\n",
    "    sentence_transformed = []\n",
    "\n",
    "    # перебираем все слова в предложении\n",
    "    for word in sentence.split():\n",
    "        # список для хранения транслитерированного слова\n",
    "        current_word = []\n",
    "        # перебираем все слоги в слове\n",
    "        for syllable in word:\n",
    "            # делаем декомпозицию слога на буквы + добавляем в конце\n",
    "            # слога флаг окончания\n",
    "            for char in j2hcj(h2j(syllable)) + \"§\":\n",
    "                # если текущий знак –– не знак пунктуации\n",
    "                if char not in punctuation:\n",
    "                    # то вызываем функцию для транслитерации слога\n",
    "                    current_state, transformed_char = change_state(\n",
    "                        transitions, current_state, char\n",
    "                    )\n",
    "                    # добавляем обработанную букву в список \"слова\"\n",
    "                    current_word.append(transformed_char)\n",
    "\n",
    "        # добавляем обработанное слово в список \"предложения\" в виде строки\n",
    "        sentence_transformed.append(\"\".join(current_word))\n",
    "\n",
    "    # возвращаем транслитерированное предложение в виде строки\n",
    "    return \" \".join(sentence_transformed)\n"
   ]
  },
  {
   "cell_type": "markdown",
   "metadata": {},
   "source": [
    "### Примеры использования"
   ]
  },
  {
   "cell_type": "code",
   "execution_count": 7,
   "metadata": {},
   "outputs": [],
   "source": [
    "# список слов/фраз на корейском языке\n",
    "# в комментариях приведен перевод и то, как слова должны быть по итогу\n",
    "# транслитерированы\n",
    "\n",
    "tests = [\n",
    "    \"\",  # проверка корректной обработки пустой строки\n",
    "    \"한국\",  # Hankwuk 'Korea'\n",
    "    \"한굴\",  # Hankul 'Korean alphabet'\n",
    "    \"서울\",  # Sewul 'Seoul'\n",
    "    \"안녕\",  # annyeng 'hi'\n",
    "    \"안녕하세요 감사합니다\",  # annyenghaseyyo kamsahapnita 'Hello, thank you'\n",
    "    \"바다\",  # pata 'sea, ocean'\n",
    "    \"산\",  # san 'mountain'\n",
    "    \"가자\",  # kaca 'let's go'\n",
    "    \"에이티즈\",  # eyithicu 'ATEEZ'\n",
    "    \"괜찮아\",  # kwaynchanha 'it's alright'\n",
    "]\n"
   ]
  },
  {
   "cell_type": "code",
   "execution_count": 8,
   "metadata": {},
   "outputs": [
    {
     "name": "stdout",
     "output_type": "stream",
     "text": [
      " --> \n",
      "한국 --> hankwuk\n",
      "한굴 --> hankwul\n",
      "서울 --> sewul\n",
      "안녕 --> annyeng\n",
      "안녕하세요 감사합니다 --> annyenghaseyyo kamsahapnita\n",
      "바다 --> pata\n",
      "산 --> san\n",
      "가자 --> kaca\n",
      "에이티즈 --> eyithicu\n",
      "괜찮아 --> kwaynchanha\n"
     ]
    }
   ],
   "source": [
    "# множество знаков пунктуации\n",
    "punctuation = set(string.punctuation)\n",
    "\n",
    "# начальное состояние\n",
    "start_state = \"q0\"\n",
    "\n",
    "# вызов функции для транслитерации каждого примера из списка\n",
    "for phrase in tests:\n",
    "    print(\n",
    "        f\"{phrase} --> {transliteration(transitions, start_state, phrase, punctuation)}\"\n",
    "    )\n"
   ]
  }
 ],
 "metadata": {
  "kernelspec": {
   "display_name": "Python 3",
   "language": "python",
   "name": "python3"
  },
  "language_info": {
   "codemirror_mode": {
    "name": "ipython",
    "version": 3
   },
   "file_extension": ".py",
   "mimetype": "text/x-python",
   "name": "python",
   "nbconvert_exporter": "python",
   "pygments_lexer": "ipython3",
   "version": "3.8.4rc1"
  }
 },
 "nbformat": 4,
 "nbformat_minor": 2
}
